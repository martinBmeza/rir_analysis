{
 "cells": [
  {
   "cell_type": "code",
   "execution_count": 1,
   "id": "b5602c73",
   "metadata": {},
   "outputs": [],
   "source": [
    "import sys ; sys.path.append('../')\n",
    "from load import RIR\n",
    "from acoustic_params import Acoustic_params\n",
    "from filterbank import Filterbank\n",
    "from scipy import stats\n",
    "import librosa\n",
    "import numpy as np\n",
    "import matplotlib.pyplot as plt\n",
    "\n",
    "params = {'fs' : 16000,\n",
    "          'bands' : [125, 250, 500, 1000, 2000, 4000],\n",
    "          'bandsize' : 1,\n",
    "          'order' : 4,\n",
    "          'f_length': 16384,'power' : True}\n",
    "filterbank = Filterbank(**params)"
   ]
  },
  {
   "cell_type": "code",
   "execution_count": 7,
   "id": "325ba73a",
   "metadata": {},
   "outputs": [],
   "source": [
    "def get_tr(path):\n",
    "    impulso = RIR(path, fs=params['fs'])\n",
    "    a_params = Acoustic_params(impulso.rir, impulso.fs)\n",
    "    tr = a_params.reverberation_time(filterbank)\n",
    "    return tr\n",
    "\n",
    "\n",
    "def get_room_tr(paths):\n",
    "    tr = {'125':[],'250':[],'500':[],'1000':[],'2000':[],'4000':[],}\n",
    "    \n",
    "    for path in paths:\n",
    "        try:\n",
    "            tr_list = get_tr(path)\n",
    "            for i in range(len(tr_list)):\n",
    "                tr[list(tr.keys())[i]].append(tr_list[i]) \n",
    "        except:\n",
    "            print(path)\n",
    "    for key, value in tr.items():\n",
    "        print(key, np.mean(value), np.std(value))"
   ]
  },
  {
   "cell_type": "code",
   "execution_count": 8,
   "id": "0f48fac7",
   "metadata": {},
   "outputs": [],
   "source": [
    "import glob \n",
    "\n",
    "classroom_paths = glob.glob('/mnt/datasets/impulsos/reales/C4DM/classroomOmni/Omni/**.wav')\n",
    "greathall_paths = glob.glob('/mnt/datasets/impulsos/reales/C4DM/greathallOmni/Omni/**.wav')\n",
    "octagon_paths = glob.glob('/mnt/datasets/impulsos/reales/C4DM/octagonOmni/Omni/**.wav')"
   ]
  },
  {
   "cell_type": "code",
   "execution_count": 12,
   "id": "541eea29",
   "metadata": {},
   "outputs": [
    {
     "name": "stdout",
     "output_type": "stream",
     "text": [
      "130\n",
      "169\n",
      "169\n"
     ]
    }
   ],
   "source": [
    "print(len(classroom_paths))\n",
    "print(len(greathall_paths))\n",
    "print(len(octagon_paths))"
   ]
  },
  {
   "cell_type": "code",
   "execution_count": 9,
   "id": "2c676dc2",
   "metadata": {},
   "outputs": [
    {
     "name": "stdout",
     "output_type": "stream",
     "text": [
      "/mnt/datasets/impulsos/reales/C4DM/classroomOmni/Omni/45x35y.wav\n",
      "/mnt/datasets/impulsos/reales/C4DM/classroomOmni/Omni/20x40y.wav\n",
      "125 1.8045554928248346 1.1280253018808242\n",
      "250 2.0931475734115335 0.12426162848188772\n",
      "500 2.050491028806303 0.04478126850019229\n",
      "1000 1.8622491232407472 0.028107054556022214\n",
      "2000 1.9904471143463374 0.02095910777056793\n",
      "4000 1.617652202209202 0.013362504505007517\n"
     ]
    }
   ],
   "source": [
    "get_room_tr(classroom_paths)"
   ]
  },
  {
   "cell_type": "code",
   "execution_count": 10,
   "id": "0aa57f01",
   "metadata": {},
   "outputs": [
    {
     "name": "stdout",
     "output_type": "stream",
     "text": [
      "/mnt/datasets/impulsos/reales/C4DM/greathallOmni/Omni/x00y10.wav\n",
      "125 2.1920226184163996 1.719128759003403\n",
      "250 2.1629856530163387 0.29409606997820886\n",
      "500 2.401238263696891 0.07465201082863704\n",
      "1000 2.446728910744482 0.061333097442824995\n",
      "2000 2.301950348795315 0.06588915314137853\n",
      "4000 1.7591733807186474 0.06159115305263006\n"
     ]
    }
   ],
   "source": [
    "get_room_tr(greathall_paths)"
   ]
  },
  {
   "cell_type": "code",
   "execution_count": 11,
   "id": "2944ea61",
   "metadata": {},
   "outputs": [
    {
     "name": "stdout",
     "output_type": "stream",
     "text": [
      "/mnt/datasets/impulsos/reales/C4DM/octagonOmni/Omni/x00y11.wav\n",
      "/mnt/datasets/impulsos/reales/C4DM/octagonOmni/Omni/x01y01.wav\n",
      "/mnt/datasets/impulsos/reales/C4DM/octagonOmni/Omni/x12y06.wav\n",
      "/mnt/datasets/impulsos/reales/C4DM/octagonOmni/Omni/x04y07.wav\n",
      "/mnt/datasets/impulsos/reales/C4DM/octagonOmni/Omni/x09y12.wav\n",
      "125 2.402607457859419 1.730789819985866\n",
      "250 2.3450449281211014 0.1198867762079938\n",
      "500 2.998816559945214 0.0581029396717131\n",
      "1000 3.2690838284690718 0.047297577566276124\n",
      "2000 2.9192571755242978 0.031114065176490433\n",
      "4000 2.231746419208941 0.031369073319663994\n"
     ]
    }
   ],
   "source": [
    "get_room_tr(octagon_paths)"
   ]
  },
  {
   "cell_type": "code",
   "execution_count": null,
   "id": "d255edf5",
   "metadata": {},
   "outputs": [],
   "source": []
  }
 ],
 "metadata": {
  "kernelspec": {
   "display_name": "Python 3",
   "language": "python",
   "name": "python3"
  },
  "language_info": {
   "codemirror_mode": {
    "name": "ipython",
    "version": 3
   },
   "file_extension": ".py",
   "mimetype": "text/x-python",
   "name": "python",
   "nbconvert_exporter": "python",
   "pygments_lexer": "ipython3",
   "version": "3.8.8"
  }
 },
 "nbformat": 4,
 "nbformat_minor": 5
}
